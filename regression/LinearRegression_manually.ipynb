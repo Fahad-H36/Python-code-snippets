{
 "cells": [
  {
   "cell_type": "code",
   "execution_count": 1,
   "metadata": {},
   "outputs": [],
   "source": [
    "from statistics import mean\n",
    "import numpy as np\n",
    "import matplotlib.pyplot as plt\n",
    "from matplotlib import style\n",
    "import random"
   ]
  },
  {
   "cell_type": "code",
   "execution_count": 2,
   "metadata": {},
   "outputs": [
    {
     "data": {
      "image/png": "[encoded data removed]",
      "text/plain": [
       "<Figure size 432x288 with 1 Axes>"
      ]
     },
     "metadata": {},
     "output_type": "display_data"
    }
   ],
   "source": [
    "\n",
    "style.use(\"fivethirtyeight\")\n",
    "\n",
    "def create_dataset(hm, step, variance, correlation=False):\n",
    "    val = 1\n",
    "    ys = []\n",
    "    \n",
    "    for i in range(hm):\n",
    "        y = val + random.randrange(-variance, variance)\n",
    "        ys.append(y)        \n",
    "        if correlation and correlation =='pos':\n",
    "            val+=step\n",
    "        elif correlation and correlation == 'neg':\n",
    "            val-=step\n",
    "            \n",
    "    xs = [i for i in range(hm)]\n",
    "        \n",
    "    return np.array(xs, dtype=np.float64), np.array(ys, dtype=np.float64)\n",
    "    \n",
    "\n",
    "    \n",
    "xs, ys = create_dataset(hm=50,step=2, variance = 10,correlation='pos')\n",
    "\n",
    "def bestFitSlopAndInt(xs,ys):\n",
    "    m = ((mean(xs)*mean(ys))-(mean(xs*ys))) / (mean(xs)**2 - mean(xs**2))\n",
    "    \n",
    "    b = mean(ys) - (m *mean(xs))\n",
    "    \n",
    "    return m, b\n",
    "\n",
    "m, b = bestFitSlopAndInt(xs,ys)\n",
    "\n",
    "regression_line = [((m*x) + b) for x in xs]\n",
    "\n",
    "predict_x = 11\n",
    "predict_y = (m * predict_x) + b\n",
    "\n",
    "\n",
    "plt.scatter(predict_x, predict_y)\n",
    "plt.scatter(xs, ys)\n",
    "plt.plot(xs, regression_line)\n",
    "plt.show()"
   ]
  },
  {
   "cell_type": "code",
   "execution_count": 3,
   "metadata": {},
   "outputs": [
    {
     "data": {
      "text/plain": [
       "0.9558595836942426"
      ]
     },
     "execution_count": 3,
     "metadata": {},
     "output_type": "execute_result"
    }
   ],
   "source": [
    "def squaredError(y_orig, y_line):\n",
    "    return sum((y_line - y_orig)**2)\n",
    "\n",
    "def r_squared(y_orig, y_line):\n",
    "    y_mean = [mean(y_orig) for y in y_orig]\n",
    "    sE_Reg = squaredError(ys, regression_line)\n",
    "    sE_Mean = squaredError(ys, y_mean)\n",
    "    \n",
    "    return (1 - (sE_Reg/sE_Mean))\n",
    "\n",
    "r_squared(ys, regression_line)\n",
    "\n",
    "    "
   ]
  },
  {
   "cell_type": "code",
   "execution_count": null,
   "metadata": {},
   "outputs": [],
   "source": []
  }
 ],
 "metadata": {
  "kernelspec": {
   "display_name": "Python 3",
   "language": "python",
   "name": "python3"
  },
  "language_info": {
   "codemirror_mode": {
    "name": "ipython",
    "version": 3
   },
   "file_extension": ".py",
   "mimetype": "text/x-python",
   "name": "python",
   "nbconvert_exporter": "python",
   "pygments_lexer": "ipython3",
   "version": "3.8.3"
  }
 },
 "nbformat": 4,
 "nbformat_minor": 4
}
