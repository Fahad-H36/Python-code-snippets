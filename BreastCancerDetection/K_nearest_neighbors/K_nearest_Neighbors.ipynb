{
 "cells": [
  {
   "cell_type": "code",
   "execution_count": 5,
   "metadata": {},
   "outputs": [],
   "source": [
    "import numpy as np\n",
    "import pandas as pd\n",
    "from sklearn import preprocessing, neighbors\n",
    "from sklearn.model_selection import train_test_split"
   ]
  },
  {
   "cell_type": "code",
   "execution_count": 6,
   "metadata": {},
   "outputs": [
    {
     "name": "stdout",
     "output_type": "stream",
     "text": [
      "0.9714285714285714 [2 2]\n"
     ]
    }
   ],
   "source": [
    "df = pd.read_csv(\"breast-cancer-wisconsin.data\")\n",
    "df.replace(\"?\", -99999, inplace=True)\n",
    "df.drop('id', 1, inplace=True)\n",
    "\n",
    "\n",
    "X = np.array(df.drop([\"class\"],1))\n",
    "y = np.array(df['class'])\n",
    "\n",
    "\n",
    "X_train, X_test, y_train, y_test = train_test_split(X, y, test_size=0.2, random_state=10)\n",
    "\n",
    "clf = neighbors.KNeighborsClassifier()\n",
    "clf.fit(X_train, y_train)\n",
    "\n",
    "accuracy = clf.score(X_test, y_test)\n",
    "\n",
    "\n",
    "sample_data = np.array([[4,3,2,2,1,3,5,5,1],[4,2,1,3,1,3,5,5,1]])\n",
    "\n",
    "prediction = clf.predict(sample_data)\n",
    "\n",
    "\n",
    "print(accuracy, prediction)"
   ]
  },
  {
   "cell_type": "code",
   "execution_count": null,
   "metadata": {},
   "outputs": [],
   "source": []
  }
 ],
 "metadata": {
  "kernelspec": {
   "display_name": "Python 3",
   "language": "python",
   "name": "python3"
  },
  "language_info": {
   "codemirror_mode": {
    "name": "ipython",
    "version": 3
   },
   "file_extension": ".py",
   "mimetype": "text/x-python",
   "name": "python",
   "nbconvert_exporter": "python",
   "pygments_lexer": "ipython3",
   "version": "3.8.3"
  }
 },
 "nbformat": 4,
 "nbformat_minor": 4
}
